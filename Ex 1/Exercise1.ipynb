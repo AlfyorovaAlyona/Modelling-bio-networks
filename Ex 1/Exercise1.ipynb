{
 "cells": [
  {
   "cell_type": "markdown",
   "metadata": {},
   "source": [
    "# Exercise 1\n",
    "CS-E5885 Modeling Biological Networks <br>\n",
    "January 12th 2022 <br>"
   ]
  },
  {
   "cell_type": "markdown",
   "metadata": {},
   "source": [
    "## 1. Lotka-Volterra model\n",
    "The famous Lotka–Volterra model describes the interaction of prey (A) and predators (B). Using the chemical reaction notation it can be represented as:\n",
    "\n",
    "$$\n",
    "\\begin{align*}\n",
    "A &\\longrightarrow 2 A &&\\text{Species A reproduction}\\\\\n",
    "A + B &\\longrightarrow 2 B &&\\text{Species B feeds on species A} \\\\\n",
    "B &\\longrightarrow \\emptyset &&\\text{Species B dies}\n",
    "\\end{align*}\n",
    "$$\n",
    "\n",
    "Extend the model by adding a species C and two reactions to the model:\n",
    "\n",
    "1. Species C feeds on species A.\n",
    "2. Species C dies.\n",
    "\n",
    "Write the complete model using chemical reaction notation."
   ]
  },
  {
   "cell_type": "markdown",
   "metadata": {},
   "source": [
    "## 2. Petri net formalism"
   ]
  },
  {
   "cell_type": "markdown",
   "metadata": {},
   "source": [
    "Read chapter 2.3 (and surrounding chapters if needed) of “Stochastic modelling for systems\n",
    "biology” (SMSB) by Darren Wilkinson. The Aalto library has an e-version of the book.\n",
    "Write the model from the answer of Problem 1 as a Petri net *N = (P, T, Pre, Post, M)*. Use the\n",
    "current state of the system given below\n",
    "\n",
    "| Species | Number of tokens |\n",
    "| --- | --- |\n",
    "| A | 120 |\n",
    "| B | 20 |\n",
    "| C | 50 |\n"
   ]
  },
  {
   "cell_type": "markdown",
   "metadata": {},
   "source": [
    "## 3. Stoichiometry\n",
    "\n",
    "Write the reaction matrix *A* and the stoichiometry matrix *S* of the model from your\n",
    "answer of Problem 1."
   ]
  },
  {
   "cell_type": "markdown",
   "metadata": {},
   "source": [
    "## 4. State of the system\n",
    "Use the model from your answer of Problem 1. Suppose the system is currently in the state\n",
    "given in the table of Problem 2. After this, the following reactions take place:\n",
    "\n",
    "* 2 “Species A reproduction”\n",
    "* 4 “Species B feeds on species A”\n",
    "* 1 “Species C feeds on species A”\n",
    "* 8 “Species B dies”\n",
    "\n",
    "What is the state of the system after the reactions? Calculate this as\n",
    "\n",
    "\\begin{equation}\n",
    "M_{new} = M + S r,\n",
    "\\end{equation}\n",
    "where vector *M* is the current state in the table of Problem 2, and vector $M_{new}$ is the new state after the reactions."
   ]
  },
  {
   "cell_type": "code",
   "execution_count": null,
   "metadata": {},
   "outputs": [],
   "source": []
  }
 ],
 "metadata": {
  "kernelspec": {
   "display_name": "Python 3 (ipykernel)",
   "language": "python",
   "name": "python3"
  },
  "language_info": {
   "codemirror_mode": {
    "name": "ipython",
    "version": 3
   },
   "file_extension": ".py",
   "mimetype": "text/x-python",
   "name": "python",
   "nbconvert_exporter": "python",
   "pygments_lexer": "ipython3",
   "version": "3.9.8"
  }
 },
 "nbformat": 4,
 "nbformat_minor": 4
}
